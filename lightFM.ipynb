{
 "cells": [
  {
   "cell_type": "code",
   "execution_count": 45,
   "metadata": {},
   "outputs": [],
   "source": [
    "import pandas as pd\n",
    "import numpy as np\n",
    "from lightfm import LightFM\n",
    "from scipy import sparse\n",
    "from time import time\n",
    "from lightfm.evaluation import precision_at_k\n",
    "from tqdm import tqdm"
   ]
  },
  {
   "cell_type": "code",
   "execution_count": 2,
   "metadata": {},
   "outputs": [],
   "source": [
    "interactions_train = pd.read_parquet('/scratch/work/courses/DSGA1004-2021/listenbrainz/interactions_train_small.parquet')\n",
    "interactions_train = interactions_train.drop(columns='timestamp')\n",
    "interactions_test = pd.read_parquet('/scratch/work/courses/DSGA1004-2021/listenbrainz/interactions_test.parquet')\n",
    "interactions_test = interactions_test.drop(columns='timestamp')"
   ]
  },
  {
   "cell_type": "code",
   "execution_count": 3,
   "metadata": {},
   "outputs": [],
   "source": [
    "# Filter users with at least 50 interactions\n",
    "interactions_count = interactions_train.groupby('user_id').size().reset_index(name='num_interactions')\n",
    "selected_user_ids = interactions_count[interactions_count.num_interactions >= 50]['user_id'].values\n",
    "train_filtered = interactions_train[interactions_train.user_id.isin(selected_user_ids)]"
   ]
  },
  {
   "cell_type": "code",
   "execution_count": 4,
   "metadata": {},
   "outputs": [],
   "source": [
    "# Map recording_msid to track_id\n",
    "unique_msid = pd.concat([train_filtered['recording_msid'], interactions_test['recording_msid']]).unique()\n",
    "df_trackid = pd.DataFrame({'recording_msid': unique_msid, 'track_id': np.arange(len(unique_msid))})"
   ]
  },
  {
   "cell_type": "code",
   "execution_count": 5,
   "metadata": {},
   "outputs": [],
   "source": [
    "# Create R matrix\n",
    "train_R_msid = train_filtered.groupby(['user_id', 'recording_msid']).size().reset_index(name='count')\n",
    "test_R_msid = interactions_test.groupby(['user_id', 'recording_msid']).size().reset_index(name='count')"
   ]
  },
  {
   "cell_type": "code",
   "execution_count": 6,
   "metadata": {},
   "outputs": [],
   "source": [
    "# Add track_id\n",
    "train_R = pd.merge(train_R_msid, df_trackid, on='recording_msid')[['user_id', 'track_id', 'count']]\n",
    "test_R = pd.merge(test_R_msid, df_trackid, on='recording_msid')[['user_id', 'track_id', 'count']]"
   ]
  },
  {
   "cell_type": "code",
   "execution_count": 7,
   "metadata": {},
   "outputs": [],
   "source": [
    "# Create true labels for test and save test\n",
    "test_true = test_R.groupby('user_id')['track_id'].apply(set).reset_index(name='true')\n",
    "test_true_sorted = test_true.sort_values('user_id')"
   ]
  },
  {
   "cell_type": "code",
   "execution_count": 8,
   "metadata": {},
   "outputs": [],
   "source": [
    "# Sort train\n",
    "train_R_sorted = train_R.sort_values(['user_id', 'track_id'])"
   ]
  },
  {
   "cell_type": "code",
   "execution_count": 9,
   "metadata": {},
   "outputs": [],
   "source": [
    "train_R_sorted.to_parquet('train_inter_small.parquet')\n",
    "test_true_sorted.to_parquet('test_true.parquet')"
   ]
  },
  {
   "cell_type": "code",
   "execution_count": 10,
   "metadata": {},
   "outputs": [],
   "source": [
    "train_R_sorted.to_csv('train_inter_small.csv', index = False)\n",
    "test_true_sorted.to_csv('test_true.csv', index = False)"
   ]
  },
  {
   "cell_type": "code",
   "execution_count": 55,
   "metadata": {},
   "outputs": [],
   "source": [
    "# Read data\n",
    "train = pd.read_parquet('train_inter_small.parquet')\n",
    "train = train.sample(frac=0.01, random_state=42)\n",
    "test_true = pd.read_parquet('test_true.parquet')"
   ]
  },
  {
   "cell_type": "code",
   "execution_count": 56,
   "metadata": {},
   "outputs": [],
   "source": [
    "# Create user and item id mappings\n",
    "user_ids = train['user_id'].unique()\n",
    "item_ids = train['track_id'].unique()"
   ]
  },
  {
   "cell_type": "code",
   "execution_count": 57,
   "metadata": {},
   "outputs": [],
   "source": [
    "user_to_index = {original: idx for idx, original in enumerate(user_ids)}\n",
    "index_to_user = {idx: original for original, idx in user_to_index.items()}\n",
    "item_to_index = {original: idx for idx, original in enumerate(item_ids)}\n",
    "index_to_item = {idx: original for original, idx in item_to_index.items()}"
   ]
  },
  {
   "cell_type": "code",
   "execution_count": 58,
   "metadata": {},
   "outputs": [],
   "source": [
    "# Create sparse matrix for training data\n",
    "rows = train['user_id'].map(user_to_index)\n",
    "cols = train['track_id'].map(item_to_index)\n",
    "interactions = sparse.coo_matrix((train['count'], (rows, cols)), shape=(len(user_to_index), len(item_to_index)))"
   ]
  },
  {
   "cell_type": "code",
   "execution_count": 59,
   "metadata": {},
   "outputs": [
    {
     "data": {
      "text/plain": [
       "<lightfm.lightfm.LightFM at 0x148869ed3880>"
      ]
     },
     "execution_count": 59,
     "metadata": {},
     "output_type": "execute_result"
    }
   ],
   "source": [
    "# LightFM model\n",
    "model = LightFM(loss='warp')\n",
    "start_time = time()\n",
    "model.fit(interactions, epochs=30, num_threads = 16)"
   ]
  },
  {
   "cell_type": "code",
   "execution_count": 61,
   "metadata": {},
   "outputs": [],
   "source": [
    "# Prepare test set\n",
    "test_true = test_true[test_true['user_id'].isin(user_to_index.keys())]\n",
    "test_true = test_true.reset_index(drop=True)  # reset the index after filtering\n",
    "test_user_ids = test_true['user_id'].map(user_to_index).values.astype(int)\n",
    "test_track_ids = [set(test_true['true'][i]) for i in range(len(test_true))]"
   ]
  },
  {
   "cell_type": "code",
   "execution_count": 62,
   "metadata": {},
   "outputs": [
    {
     "name": "stderr",
     "output_type": "stream",
     "text": [
      "5016it [02:14, 37.36it/s]\n"
     ]
    }
   ],
   "source": [
    "# Compute MAP@K for test set\n",
    "mapk_test = []\n",
    "for user_id, true_tracks in tqdm(zip(test_user_ids, test_track_ids)):\n",
    "    # repeat the user id for the number of items\n",
    "    user_ids_array = np.full(interactions.shape[1], user_id, dtype=np.int32)\n",
    "    item_ids_array = np.arange(interactions.shape[1], dtype=np.int32)\n",
    "    scores = model.predict(user_ids_array, item_ids_array)\n",
    "    top_items = np.argsort(-scores)[:100]  # get top 100 items\n",
    "    pred_tracks = set(top_items)\n",
    "    mapk_test.append(len(true_tracks & pred_tracks) / len(pred_tracks))"
   ]
  },
  {
   "cell_type": "code",
   "execution_count": 63,
   "metadata": {},
   "outputs": [
    {
     "name": "stdout",
     "output_type": "stream",
     "text": [
      "The total train time for lightFM is: 155.69324612617493\n",
      "MAP@K for test set: 0.0012141148325358854\n"
     ]
    }
   ],
   "source": [
    "mapk_test = np.mean(mapk_test)\n",
    "end_time = time()\n",
    "lightfm_time = end_time - start_time\n",
    "print(f'The total train time for lightFM is: {lightfm_time}')\n",
    "print(f\"MAP@K for test set: {mapk_test}\")"
   ]
  }
 ],
 "metadata": {
  "kernelspec": {
   "display_name": "Python 3",
   "language": "python",
   "name": "python3"
  },
  "language_info": {
   "codemirror_mode": {
    "name": "ipython",
    "version": 3
   },
   "file_extension": ".py",
   "mimetype": "text/x-python",
   "name": "python",
   "nbconvert_exporter": "python",
   "pygments_lexer": "ipython3",
   "version": "3.8.6"
  }
 },
 "nbformat": 4,
 "nbformat_minor": 4
}
